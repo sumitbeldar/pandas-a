{
 "cells": [
  {
   "cell_type": "code",
   "execution_count": 2,
   "id": "7edac624",
   "metadata": {},
   "outputs": [
    {
     "name": "stdout",
     "output_type": "stream",
     "text": [
      "course_name    Machine Learning\n",
      "duration                      3\n",
      "Name: 1, dtype: object\n"
     ]
    }
   ],
   "source": [
    "#Q1\n",
    "import pandas as pd\n",
    "course_name = ['Data Science', 'Machine Learning', 'Big Data', 'Data Engineer']\n",
    "duration = [2,3,6,4]\n",
    "df = pd.DataFrame(data = {'course_name' : course_name, 'duration' : duration})\n",
    "print(df.iloc[1])"
   ]
  },
  {
   "cell_type": "markdown",
   "id": "eff81997",
   "metadata": {},
   "source": [
    "#Q2\n",
    "\n",
    "loc is label-based and is used to select data using labels, such as row or column names. It takes the following syntax: df.loc[row_label, column_label]. The row_label can be a single label or a list of labels, and the column_label can also be a single label or a list of labels. For example, df.loc[2, 'course_name'] would return the value in the 'course_name' column for the row with the label 2.\n",
    "\n",
    "iloc is integer-based and is used to select data using integer positions, such as row or column indices. It takes the following syntax: df.iloc[row_index, column_index]. The row_index can be a single integer or a list of integers, and the column_index can also be a single integer or a list of integers. For example, df.iloc[2, 0] would return the value in the first column for the row at index 2."
   ]
  },
  {
   "cell_type": "code",
   "execution_count": 4,
   "id": "1f56d36a",
   "metadata": {},
   "outputs": [
    {
     "name": "stdout",
     "output_type": "stream",
     "text": [
      "course_name    Big Data\n",
      "duration              6\n",
      "Name: 2, dtype: object\n"
     ]
    }
   ],
   "source": [
    "#Q3\n",
    "reindex = [3,0,1,2]\n",
    "new_df = df.reindex(reindex)\n",
    "print(new_df.loc[2])\n",
    "\n",
    "#after changing the index data inthe row 2 change"
   ]
  },
  {
   "cell_type": "code",
   "execution_count": 8,
   "id": "d59d7d88",
   "metadata": {},
   "outputs": [
    {
     "name": "stdout",
     "output_type": "stream",
     "text": [
      "Mean of each column:\n",
      " column_1    0.817219\n",
      "column_2    0.267120\n",
      "column_3    0.892817\n",
      "column_4    0.659058\n",
      "column_5    0.341062\n",
      "column_6    0.435674\n",
      "dtype: float64\n",
      "Standard deviation of column_2: 0.24448931390949055\n"
     ]
    }
   ],
   "source": [
    "#Q4\n",
    "import pandas as pd\n",
    "import numpy as np\n",
    "\n",
    "columns = ['column_1', 'column_2', 'column_3', 'column_4', 'column_5', 'column_6']\n",
    "indices = [1,2,3,4,5,6]\n",
    "#Creating a dataframe:\n",
    "df1 = pd.DataFrame(np.random.rand(6,6), columns = columns, index = indices)\n",
    "print(\"Mean of each column:\\n\", df1.mean())\n",
    "\n",
    "\n",
    "print(\"Standard deviation of column_2:\", df1['column_2'].std())"
   ]
  },
  {
   "cell_type": "code",
   "execution_count": 10,
   "id": "66cc0238",
   "metadata": {},
   "outputs": [
    {
     "name": "stdout",
     "output_type": "stream",
     "text": [
      "Mean of column_2: 1.8140643425071488\n"
     ]
    }
   ],
   "source": [
    "#Q5\n",
    "df1.loc[2, 'column_2'] = \"new string value\"\n",
    "df1.loc[2, 'column_2'] = 10\n",
    "print(\"Mean of column_2:\", df1['column_2'].mean())\n"
   ]
  },
  {
   "cell_type": "markdown",
   "id": "a619351c",
   "metadata": {},
   "source": [
    "#Q6\n",
    "Rolling window functions: These functions operate on a fixed-size window of data that \"rolls\" along the DataFrame or Series. Examples of rolling window functions include rolling(), rolling_mean(), and rolling_sum().\n",
    "\n",
    "Expanding window functions: These functions operate on all of the data up to a given point in time. Examples of expanding window functions include cumsum(), cumprod(), and expanding().\n",
    "\n",
    "Exponentially weighted window functions: These functions weight more recent data more heavily than older data. Examples of exponentially weighted window functions include ewma() and ewmcorr().\n",
    "\n",
    "Aggregation functions: These functions operate on a group of data rather than a sliding window of data. Examples of aggregation functions include groupby(), pivot_table(), and resample()."
   ]
  },
  {
   "cell_type": "code",
   "execution_count": 12,
   "id": "959be13d",
   "metadata": {},
   "outputs": [
    {
     "name": "stdout",
     "output_type": "stream",
     "text": [
      "Current month and year: 4 2023\n"
     ]
    },
    {
     "name": "stderr",
     "output_type": "stream",
     "text": [
      "C:\\Users\\sumit\\AppData\\Local\\Temp\\ipykernel_10492\\2335171135.py:5: FutureWarning: The pandas.datetime class is deprecated and will be removed from pandas in a future version. Import from datetime module instead.\n",
      "  current_datetime = pd.datetime.now()\n"
     ]
    }
   ],
   "source": [
    "#Q7\n",
    "import pandas as pd\n",
    "\n",
    "# get the current date and time\n",
    "current_datetime = pd.datetime.now()\n",
    "\n",
    "# extract the month and year from the current date\n",
    "current_month = current_datetime.month\n",
    "current_year = current_datetime.year\n",
    "\n",
    "# print the current month and year\n",
    "print(\"Current month and year:\", current_month, current_year)\n"
   ]
  },
  {
   "cell_type": "code",
   "execution_count": 14,
   "id": "84083ae2",
   "metadata": {},
   "outputs": [
    {
     "name": "stdout",
     "output_type": "stream",
     "text": [
      "Enter the first date (YYYY-MM-DD): 2023-04-23\n",
      "Enter the second date (YYYY-MM-DD): 2023-07-21\n",
      "The difference between 2023-04-23 and 2023-07-21 is: 89 days, 0 hours, and 0 minutes.\n"
     ]
    }
   ],
   "source": [
    "#Q8\n",
    "import pandas as pd\n",
    "\n",
    "# prompt the user to enter the two dates\n",
    "date1_str = input(\"Enter the first date (YYYY-MM-DD): \")\n",
    "date2_str = input(\"Enter the second date (YYYY-MM-DD): \")\n",
    "\n",
    "# convert the date strings to Pandas datetime objects\n",
    "date1 = pd.to_datetime(date1_str)\n",
    "date2 = pd.to_datetime(date2_str)\n",
    "\n",
    "# calculate the time difference using Pandas time delta\n",
    "time_diff = date2 - date1\n",
    "\n",
    "# extract the number of days, hours, and minutes from the time difference\n",
    "days = time_diff.days\n",
    "hours = time_diff.seconds // 3600\n",
    "minutes = (time_diff.seconds // 60) % 60\n",
    "\n",
    "# display the result\n",
    "print(\"The difference between\", date1_str, \"and\", date2_str, \"is:\", days, \"days,\", hours, \"hours, and\", minutes, \"minutes.\")\n"
   ]
  },
  {
   "cell_type": "code",
   "execution_count": null,
   "id": "89a67fab",
   "metadata": {},
   "outputs": [],
   "source": [
    "#Q9\n",
    "import pandas as pd\n",
    "\n",
    "# prompt the user to enter the file path\n",
    "file_path = input(\"Enter the file path: \")\n",
    "\n",
    "# read the CSV file into a Pandas DataFrame\n",
    "df = pd.read_csv(file_path)\n",
    "\n",
    "# prompt the user to enter the column name to convert\n",
    "column_name = input(\"Enter the column name to convert: \")\n",
    "\n",
    "# prompt the user to enter the category order\n",
    "category_order = input(\"Enter the category order (comma-separated): \").split(\",\")\n",
    "\n",
    "# convert the specified column to a categorical data type with the specified category order\n",
    "df[column_name] = pd.Categorical(df[column_name], categories=category_order, ordered=True)\n",
    "\n",
    "# display the sorted data\n",
    "print(df.sort_values(column_name))\n"
   ]
  },
  {
   "cell_type": "code",
   "execution_count": null,
   "id": "c4767b2e",
   "metadata": {},
   "outputs": [],
   "source": [
    "#Q10\n",
    "import pandas as pd\n",
    "import matplotlib.pyplot as plt\n",
    "\n",
    "# prompt the user to enter the file path\n",
    "file_path = input(\"Enter the file path: \")\n",
    "\n",
    "# read the CSV file into a Pandas DataFrame\n",
    "df = pd.read_csv(file_path)\n",
    "\n",
    "# set the index to the date column\n",
    "df.set_index('Date', inplace=True)\n",
    "\n",
    "# group the data by product category and month and sum the sales\n",
    "grouped = df.groupby([pd.Grouper(freq='M'), 'Product Category']).sum()\n",
    "\n",
    "# unstack the product category level to create a stacked bar chart\n",
    "stacked = grouped.unstack(level=1)\n",
    "stacked.plot(kind='bar', stacked=True)\n",
    "\n",
    "# add axis labels and a title\n",
    "plt.xlabel('Month')\n",
    "plt.ylabel('Sales')\n",
    "plt.title('Sales by Product Category')\n",
    "\n",
    "# show the chart\n",
    "plt.show()\n"
   ]
  },
  {
   "cell_type": "code",
   "execution_count": null,
   "id": "8070c41f",
   "metadata": {},
   "outputs": [],
   "source": [
    "#Q11\n",
    "import pandas as pd\n",
    "\n",
    "# Prompt the user to enter the file path of the CSV file\n",
    "file_path = input(\"Enter the file path of the CSV file containing the student data: \")\n",
    "\n",
    "# Read the CSV file into a Pandas DataFrame\n",
    "df = pd.read_csv(file_path)\n",
    "\n",
    "# Calculate the mean, median, and mode of the test scores\n",
    "mean = df[\"Test Score\"].mean()\n",
    "median = df[\"Test Score\"].median()\n",
    "mode = df[\"Test Score\"].mode()\n",
    "\n",
    "# Display the mean, median, and mode in a table\n",
    "table = pd.DataFrame({\n",
    "    \"Statistic\": [\"Mean\", \"Median\", \"Mode\"],\n",
    "    \"Value\": [mean, median, mode]\n",
    "})\n",
    "\n",
    "print(table)\n"
   ]
  },
  {
   "cell_type": "code",
   "execution_count": null,
   "id": "feb0be70",
   "metadata": {},
   "outputs": [],
   "source": []
  }
 ],
 "metadata": {
  "kernelspec": {
   "display_name": "Python 3 (ipykernel)",
   "language": "python",
   "name": "python3"
  },
  "language_info": {
   "codemirror_mode": {
    "name": "ipython",
    "version": 3
   },
   "file_extension": ".py",
   "mimetype": "text/x-python",
   "name": "python",
   "nbconvert_exporter": "python",
   "pygments_lexer": "ipython3",
   "version": "3.9.13"
  }
 },
 "nbformat": 4,
 "nbformat_minor": 5
}
